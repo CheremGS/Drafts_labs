{
 "cells": [
  {
   "cell_type": "markdown",
   "metadata": {},
   "source": [
    "# Lab 2"
   ]
  },
  {
   "cell_type": "code",
   "execution_count": 1,
   "metadata": {},
   "outputs": [],
   "source": [
    "import numpy as np\n",
    "import pandas as pd\n",
    "import time\n",
    "import warnings"
   ]
  },
  {
   "cell_type": "code",
   "execution_count": 2,
   "metadata": {},
   "outputs": [],
   "source": [
    "warnings.filterwarnings('ignore')\n",
    "f = lambda x: 1/(np.exp(x) - 1)\n",
    "a, b = np.log(2), 2*np.log(2)"
   ]
  },
  {
   "cell_type": "markdown",
   "metadata": {},
   "source": [
    "Реализация методов интегрирования через конечные суммы(прямоугольник, трапеция, парабола)"
   ]
  },
  {
   "cell_type": "code",
   "execution_count": 3,
   "metadata": {},
   "outputs": [],
   "source": [
    "def timer(func):\n",
    "    s = time.time()\n",
    "    x = func\n",
    "    e = time.time()\n",
    "    return e - s"
   ]
  },
  {
   "cell_type": "code",
   "execution_count": 4,
   "metadata": {},
   "outputs": [],
   "source": [
    "# left rectangle из того что он требовал раньше\n",
    "# correct\n",
    "def left_rectangle_2(func, x1, x2, eps):\n",
    "    n0 = int(abs(x1 - x2)/eps) + 1\n",
    "    h0 = abs(x1 - x2)/n0\n",
    "    I_iter = pd.Series()\n",
    "\n",
    "    for i in range(3):\n",
    "        I = 0\n",
    "        x = x1\n",
    "        while x < x2:\n",
    "            I += h0 * func(x)\n",
    "            x += h0\n",
    "        I_iter[str(i+1)] = I\n",
    "        h0 /= 2\n",
    "\n",
    "    return I_iter       "
   ]
  },
  {
   "cell_type": "code",
   "execution_count": 5,
   "metadata": {},
   "outputs": [
    {
     "data": {
      "text/plain": [
       "(array([0.40553177, 0.40548177, 0.40547344]), 0.4054651081081644)"
      ]
     },
     "execution_count": 5,
     "metadata": {},
     "output_type": "execute_result"
    }
   ],
   "source": [
    "left_rectangle_2(f, a, b, 1e-4).values, np.log(3/2)"
   ]
  },
  {
   "cell_type": "code",
   "execution_count": 6,
   "metadata": {},
   "outputs": [],
   "source": [
    "# left rectangle \n",
    "# correct\n",
    "def left_rectangle(func, x1, x2, eps):\n",
    "    n0 = int(abs(x1 - x2)/eps) + 1\n",
    "    h0 = abs(x1 - x2)/n0\n",
    "    I = 0\n",
    "    I_prev = -10\n",
    "    n_iter = 0\n",
    "    \n",
    "    while abs(I - I_prev)/(2**1 - 1) > eps:\n",
    "        I_prev = I\n",
    "        x = x1\n",
    "        I = 0\n",
    "        n_iter += 1\n",
    "        while x < x2:\n",
    "            I += h0 * func(x)\n",
    "            x += h0\n",
    "        h0 /= 2\n",
    "\n",
    "    return I, n_iter"
   ]
  },
  {
   "cell_type": "code",
   "execution_count": 7,
   "metadata": {},
   "outputs": [
    {
     "name": "stdout",
     "output_type": "stream",
     "text": [
      "(0.4054817738288575, 2) 0.4054651081081644\n"
     ]
    },
    {
     "data": {
      "text/plain": [
       "0.0668647289276123"
      ]
     },
     "execution_count": 7,
     "metadata": {},
     "output_type": "execute_result"
    }
   ],
   "source": [
    "s = time.time()\n",
    "print(left_rectangle(f, a, b, 1e-4), np.log(3/2))\n",
    "e = time.time()\n",
    "e - s"
   ]
  },
  {
   "cell_type": "code",
   "execution_count": 8,
   "metadata": {},
   "outputs": [],
   "source": [
    "# correct\n",
    "def trapezoid_(func, x1, x2, eps):\n",
    "    n0 = int(abs(x1 - x2)/(2*eps**0.5)) + 1\n",
    "    h0 = abs(x1 - x2)/n0\n",
    "    I = 0\n",
    "    I_prev = -10\n",
    "    n_iter = 0\n",
    "    \n",
    "    while abs(I - I_prev)/(2**2 - 1) > eps:\n",
    "        I_prev = I\n",
    "        x = x1\n",
    "        I = 0\n",
    "        n_iter += 1\n",
    "        \n",
    "        while x < x2:\n",
    "            x += h0\n",
    "            I += h0 * (func(x - h0) + func(x))/2          \n",
    "        h0 /= 2\n",
    "    return I, n_iter"
   ]
  },
  {
   "cell_type": "code",
   "execution_count": 9,
   "metadata": {},
   "outputs": [
    {
     "name": "stdout",
     "output_type": "stream",
     "text": [
      "(0.40546590250671577, 4) 0.4054651081081644\n"
     ]
    },
    {
     "data": {
      "text/plain": [
       "0.004984378814697266"
      ]
     },
     "execution_count": 9,
     "metadata": {},
     "output_type": "execute_result"
    }
   ],
   "source": [
    "s = time.time()\n",
    "print(trapezoid_(f, a, b, 1e-4), np.log(3/2))\n",
    "e = time.time()\n",
    "e - s"
   ]
  },
  {
   "cell_type": "code",
   "execution_count": 10,
   "metadata": {},
   "outputs": [],
   "source": [
    "def parabola(func, x1, x2, eps):\n",
    "    n0 = int(abs(x1 - x2)/eps**0.25) + 1\n",
    "    h0 = abs(x1 - x2)/(2*n0)\n",
    "    \n",
    "    I = 0\n",
    "    I_prev = -10\n",
    "    n_iter = 0\n",
    "    \n",
    "    while abs(I - I_prev)/(2**4 - 1) > eps:\n",
    "        I_prev = I\n",
    "        x = x1\n",
    "        I = 0\n",
    "        n_iter += 1\n",
    "        \n",
    "        while x < x2:\n",
    "            x += h0\n",
    "            I += h0/6 * (func(x - h0) + 4*func(x-h0/2) + func(x))        \n",
    "        h0 /= 2\n",
    "    \n",
    "    return I, n_iter"
   ]
  },
  {
   "cell_type": "code",
   "execution_count": 11,
   "metadata": {},
   "outputs": [
    {
     "name": "stdout",
     "output_type": "stream",
     "text": [
      "(0.40546510810893793, 5) 0.4054651081081644\n"
     ]
    },
    {
     "data": {
      "text/plain": [
       "0.00498509407043457"
      ]
     },
     "execution_count": 11,
     "metadata": {},
     "output_type": "execute_result"
    }
   ],
   "source": [
    "s = time.time()\n",
    "print(parabola(f, a, b, 1e-4), np.log(3/2))\n",
    "e = time.time()\n",
    "e - s"
   ]
  },
  {
   "cell_type": "code",
   "execution_count": null,
   "metadata": {},
   "outputs": [],
   "source": []
  },
  {
   "cell_type": "markdown",
   "metadata": {},
   "source": [
    "## with diff steps"
   ]
  },
  {
   "cell_type": "code",
   "execution_count": 12,
   "metadata": {},
   "outputs": [],
   "source": [
    "# из того что он требовал раньше\n",
    "def left_rectangle_2(func, x1, x2, h0):\n",
    "    I_iter = pd.Series()\n",
    "    for i in range(3):\n",
    "        I = 0\n",
    "        x = x1\n",
    "        while x < x2:\n",
    "            I += h0 * func(x)\n",
    "            x += h0\n",
    "        I_iter[str(i+1)] = I\n",
    "        h0 /= 2\n",
    "    return I_iter   \n",
    "\n",
    "\n",
    "\n",
    "def mid_rectangle_2(func, x1, x2, h0):\n",
    "    I_iter = pd.Series() \n",
    "    \n",
    "    for i in range(3):\n",
    "        I = 0\n",
    "        x = x1   \n",
    "        \n",
    "        while x < x2:\n",
    "            x += h0\n",
    "            I += h0 * func(x - h0/2)\n",
    "            \n",
    "        I_iter[str(i+1)] = I\n",
    "        h0 /= 2\n",
    "    return I_iter\n",
    "\n",
    "\n",
    "\n",
    "def trapezoid_2(func, x1, x2, h0):\n",
    "    I_iter = pd.Series()    \n",
    "    for i in range(3):\n",
    "        I = 0\n",
    "        x = x1\n",
    "        \n",
    "        while x < x2:\n",
    "            x += h0\n",
    "            I += h0 * (func(x - h0) + func(x))/2\n",
    "        I_iter[str(i+1)] = I\n",
    "        h0 /= 2\n",
    "    return I_iter\n",
    "\n",
    "def parabola_2(func, x1, x2, h0):\n",
    "    I_iter = pd.Series()  \n",
    "    for i in range(3):\n",
    "        x = x1\n",
    "        I = 0        \n",
    "        while x < x2:\n",
    "            x += h0\n",
    "            I += h0/6 * (func(x - h0) + 4*func(x-h0/2) + func(x))        \n",
    "        I_iter[str(1+i)] = I\n",
    "        h0 /= 2\n",
    "    \n",
    "    return I_iter"
   ]
  },
  {
   "cell_type": "code",
   "execution_count": 13,
   "metadata": {},
   "outputs": [],
   "source": [
    "lr = mid_rectangle_2(f, a, b, 1e-4)\n",
    "tr = trapezoid_2(f, a, b, 1e-4)\n",
    "pr = parabola_2(f, a, b, 1e-4)"
   ]
  },
  {
   "cell_type": "code",
   "execution_count": 26,
   "metadata": {},
   "outputs": [
    {
     "name": "stdout",
     "output_type": "stream",
     "text": [
      "Значение вычисленное аналитически =  0.4054651081081644\n"
     ]
    },
    {
     "data": {
      "text/html": [
       "<div>\n",
       "<style scoped>\n",
       "    .dataframe tbody tr th:only-of-type {\n",
       "        vertical-align: middle;\n",
       "    }\n",
       "\n",
       "    .dataframe tbody tr th {\n",
       "        vertical-align: top;\n",
       "    }\n",
       "\n",
       "    .dataframe thead th {\n",
       "        text-align: right;\n",
       "    }\n",
       "</style>\n",
       "<table border=\"1\" class=\"dataframe\">\n",
       "  <thead>\n",
       "    <tr style=\"text-align: right;\">\n",
       "      <th></th>\n",
       "      <th>Метод средних прямоугольников</th>\n",
       "      <th>Метод трапеций</th>\n",
       "      <th>Метод Симпсона</th>\n",
       "      <th>R_n1</th>\n",
       "      <th>R_n2</th>\n",
       "      <th>R_n3</th>\n",
       "    </tr>\n",
       "  </thead>\n",
       "  <tbody>\n",
       "    <tr>\n",
       "      <th>h0</th>\n",
       "      <td>4.054827e-01</td>\n",
       "      <td>4.054827e-01</td>\n",
       "      <td>4.054827e-01</td>\n",
       "      <td>-1.760521e-05</td>\n",
       "      <td>-1.760716e-05</td>\n",
       "      <td>-1.760586e-05</td>\n",
       "    </tr>\n",
       "    <tr>\n",
       "      <th>h0 / 2</th>\n",
       "      <td>4.054660e-01</td>\n",
       "      <td>4.054660e-01</td>\n",
       "      <td>4.054660e-01</td>\n",
       "      <td>-9.396495e-07</td>\n",
       "      <td>-9.401356e-07</td>\n",
       "      <td>-9.398115e-07</td>\n",
       "    </tr>\n",
       "    <tr>\n",
       "      <th>h0 / 4</th>\n",
       "      <td>4.054660e-01</td>\n",
       "      <td>4.054660e-01</td>\n",
       "      <td>4.054660e-01</td>\n",
       "      <td>-9.397709e-07</td>\n",
       "      <td>-9.398924e-07</td>\n",
       "      <td>-9.398114e-07</td>\n",
       "    </tr>\n",
       "    <tr>\n",
       "      <th>Рунге для h/2</th>\n",
       "      <td>5.555187e-06</td>\n",
       "      <td>5.555674e-06</td>\n",
       "      <td>1.111070e-06</td>\n",
       "      <td>0.000000e+00</td>\n",
       "      <td>0.000000e+00</td>\n",
       "      <td>0.000000e+00</td>\n",
       "    </tr>\n",
       "    <tr>\n",
       "      <th>Рунге для h/4</th>\n",
       "      <td>-4.047331e-11</td>\n",
       "      <td>8.105274e-11</td>\n",
       "      <td>7.242355e-15</td>\n",
       "      <td>0.000000e+00</td>\n",
       "      <td>0.000000e+00</td>\n",
       "      <td>0.000000e+00</td>\n",
       "    </tr>\n",
       "    <tr>\n",
       "      <th>Ричардсон для h/2</th>\n",
       "      <td>4.054883e-01</td>\n",
       "      <td>4.054883e-01</td>\n",
       "      <td>4.054838e-01</td>\n",
       "      <td>0.000000e+00</td>\n",
       "      <td>0.000000e+00</td>\n",
       "      <td>0.000000e+00</td>\n",
       "    </tr>\n",
       "    <tr>\n",
       "      <th>Ричардсон для h/4</th>\n",
       "      <td>4.054660e-01</td>\n",
       "      <td>4.054660e-01</td>\n",
       "      <td>4.054660e-01</td>\n",
       "      <td>0.000000e+00</td>\n",
       "      <td>0.000000e+00</td>\n",
       "      <td>0.000000e+00</td>\n",
       "    </tr>\n",
       "  </tbody>\n",
       "</table>\n",
       "</div>"
      ],
      "text/plain": [
       "                   Метод средних прямоугольников  Метод трапеций  \\\n",
       "h0                                  4.054827e-01    4.054827e-01   \n",
       "h0 / 2                              4.054660e-01    4.054660e-01   \n",
       "h0 / 4                              4.054660e-01    4.054660e-01   \n",
       "Рунге для h/2                       5.555187e-06    5.555674e-06   \n",
       "Рунге для h/4                      -4.047331e-11    8.105274e-11   \n",
       "Ричардсон для h/2                   4.054883e-01    4.054883e-01   \n",
       "Ричардсон для h/4                   4.054660e-01    4.054660e-01   \n",
       "\n",
       "                   Метод Симпсона          R_n1          R_n2          R_n3  \n",
       "h0                   4.054827e-01 -1.760521e-05 -1.760716e-05 -1.760586e-05  \n",
       "h0 / 2               4.054660e-01 -9.396495e-07 -9.401356e-07 -9.398115e-07  \n",
       "h0 / 4               4.054660e-01 -9.397709e-07 -9.398924e-07 -9.398114e-07  \n",
       "Рунге для h/2        1.111070e-06  0.000000e+00  0.000000e+00  0.000000e+00  \n",
       "Рунге для h/4        7.242355e-15  0.000000e+00  0.000000e+00  0.000000e+00  \n",
       "Ричардсон для h/2    4.054838e-01  0.000000e+00  0.000000e+00  0.000000e+00  \n",
       "Ричардсон для h/4    4.054660e-01  0.000000e+00  0.000000e+00  0.000000e+00  "
      ]
     },
     "execution_count": 26,
     "metadata": {},
     "output_type": "execute_result"
    }
   ],
   "source": [
    "#1 - прямоугольники, 2-трапеции, 3 - Симпсон\n",
    "df_result = pd.DataFrame({'Метод средних прямоугольников': lr, 'Метод трапеций': tr, 'Метод Симпсона': pr})\n",
    "df_result.index = ['h0', 'h0 / 2', 'h0 / 4']\n",
    "#R_n1 = np.log(3/2) - I1\n",
    "print('Значение вычисленное аналитически = ', np.log(3/2))\n",
    "for i in range(1, 4):\n",
    "    df_result[f'R_n{i}'] = np.log(3/2) - df_result.iloc[:, i-1]\n",
    "    \n",
    "mas_for_0_2 = np.zeros(6)\n",
    "mas_for_2_4 = np.zeros(6)\n",
    "for i,k in enumerate([2, 2, 4]):\n",
    "    mas_for_0_2[i] = (df_result.iloc[0, i] - df_result.iloc[1, i])/(2**k - 1)\n",
    "    mas_for_2_4[i] = (df_result.iloc[1, i] - df_result.iloc[2, i])/(2**k - 1)\n",
    "    \n",
    "df_result.loc['Рунге для h/2', :] = mas_for_0_2\n",
    "df_result.loc['Рунге для h/4', :] = mas_for_2_4\n",
    "   \n",
    "for i,k in enumerate([2, 2, 4]):\n",
    "    mas_for_0_2[i] = (df_result.iloc[0, i]*2**k - df_result.iloc[1, i])/(2**k - 1)\n",
    "    mas_for_2_4[i] = (df_result.iloc[1, i]*2**k - df_result.iloc[2, i])/(2**k - 1)\n",
    "    \n",
    "df_result.loc['Ричардсон для h/2', :] = mas_for_0_2\n",
    "df_result.loc['Ричардсон для h/4', :] = mas_for_2_4\n",
    "\n",
    "df_result"
   ]
  },
  {
   "cell_type": "code",
   "execution_count": 31,
   "metadata": {},
   "outputs": [],
   "source": [
    "def output_results(f, a, b, I, len_step, string_cond):\n",
    "    lr = mid_rectangle_2(f, a, b, len_step)\n",
    "    tr = trapezoid_2(f, a, b, len_step)\n",
    "    pr = parabola_2(f, a, b, len_step)\n",
    "    print(f'\\n{string_cond}\\n')\n",
    "    #1 - прямоугольники, 2-трапеции, 3 - Симпсон\n",
    "    df_result = pd.DataFrame({'Метод средних прямоугольников': lr, 'Метод трапеций': tr, 'Метод Симпсона': pr})\n",
    "    df_result.index = ['h0', 'h0 / 2', 'h0 / 4']\n",
    "    #R_n1 = np.log(3/2) - I1\n",
    "    print('Значение вычисленное аналитически = ', I)\n",
    "    for i in range(1, 4):\n",
    "        df_result[f'R_n{i}'] = I - df_result.iloc[:, i-1]\n",
    "\n",
    "    for i,k in enumerate([2, 2, 4]):\n",
    "        mas_for_0_2[i] = (df_result.iloc[0, i] - df_result.iloc[1, i])/(2**k - 1)\n",
    "        mas_for_2_4[i] = (df_result.iloc[1, i] - df_result.iloc[2, i])/(2**k - 1)\n",
    "    \n",
    "    df_result.loc['Рунге для h/2', :] = mas_for_0_2\n",
    "    df_result.loc['Рунге для h/4', :] = mas_for_2_4    \n",
    "    \n",
    "    for i,k in enumerate([2, 2, 4]):\n",
    "        mas_for_0_2[i] = (df_result.iloc[0, i]*2**k - df_result.iloc[1, i])/(2**k - 1)\n",
    "        mas_for_2_4[i] = (df_result.iloc[1, i]*2**k - df_result.iloc[2, i])/(2**k - 1)\n",
    "    \n",
    "    df_result.loc['Ричардсон для h/2', :] = mas_for_0_2\n",
    "    df_result.loc['Ричардсон для h/4', :] = mas_for_2_4\n",
    "    \n",
    "    df_result.iloc[3:, 3:] = '-'\n",
    "    \n",
    "    return df_result"
   ]
  },
  {
   "cell_type": "code",
   "execution_count": 32,
   "metadata": {},
   "outputs": [
    {
     "name": "stdout",
     "output_type": "stream",
     "text": [
      "\n",
      "Функция 1/(exp[x] - 1); границы [log(2), 2*log(2)], шаг = 0.0001\n",
      "\n",
      "Значение вычисленное аналитически =  0.4054651081081644\n"
     ]
    },
    {
     "data": {
      "text/html": [
       "<div>\n",
       "<style scoped>\n",
       "    .dataframe tbody tr th:only-of-type {\n",
       "        vertical-align: middle;\n",
       "    }\n",
       "\n",
       "    .dataframe tbody tr th {\n",
       "        vertical-align: top;\n",
       "    }\n",
       "\n",
       "    .dataframe thead th {\n",
       "        text-align: right;\n",
       "    }\n",
       "</style>\n",
       "<table border=\"1\" class=\"dataframe\">\n",
       "  <thead>\n",
       "    <tr style=\"text-align: right;\">\n",
       "      <th></th>\n",
       "      <th>Метод средних прямоугольников</th>\n",
       "      <th>Метод трапеций</th>\n",
       "      <th>Метод Симпсона</th>\n",
       "      <th>R_n1</th>\n",
       "      <th>R_n2</th>\n",
       "      <th>R_n3</th>\n",
       "    </tr>\n",
       "  </thead>\n",
       "  <tbody>\n",
       "    <tr>\n",
       "      <th>h0</th>\n",
       "      <td>4.054827e-01</td>\n",
       "      <td>4.054827e-01</td>\n",
       "      <td>4.054827e-01</td>\n",
       "      <td>-1.76052e-05</td>\n",
       "      <td>-1.76072e-05</td>\n",
       "      <td>-1.76059e-05</td>\n",
       "    </tr>\n",
       "    <tr>\n",
       "      <th>h0 / 2</th>\n",
       "      <td>4.054660e-01</td>\n",
       "      <td>4.054660e-01</td>\n",
       "      <td>4.054660e-01</td>\n",
       "      <td>-9.39649e-07</td>\n",
       "      <td>-9.40136e-07</td>\n",
       "      <td>-9.39812e-07</td>\n",
       "    </tr>\n",
       "    <tr>\n",
       "      <th>h0 / 4</th>\n",
       "      <td>4.054660e-01</td>\n",
       "      <td>4.054660e-01</td>\n",
       "      <td>4.054660e-01</td>\n",
       "      <td>-9.39771e-07</td>\n",
       "      <td>-9.39892e-07</td>\n",
       "      <td>-9.39811e-07</td>\n",
       "    </tr>\n",
       "    <tr>\n",
       "      <th>Рунге для h/2</th>\n",
       "      <td>5.555187e-06</td>\n",
       "      <td>5.555674e-06</td>\n",
       "      <td>1.111070e-06</td>\n",
       "      <td>-</td>\n",
       "      <td>-</td>\n",
       "      <td>-</td>\n",
       "    </tr>\n",
       "    <tr>\n",
       "      <th>Рунге для h/4</th>\n",
       "      <td>-4.047331e-11</td>\n",
       "      <td>8.105274e-11</td>\n",
       "      <td>7.242355e-15</td>\n",
       "      <td>-</td>\n",
       "      <td>-</td>\n",
       "      <td>-</td>\n",
       "    </tr>\n",
       "    <tr>\n",
       "      <th>Ричардсон для h/2</th>\n",
       "      <td>4.054883e-01</td>\n",
       "      <td>4.054883e-01</td>\n",
       "      <td>4.054838e-01</td>\n",
       "      <td>-</td>\n",
       "      <td>-</td>\n",
       "      <td>-</td>\n",
       "    </tr>\n",
       "    <tr>\n",
       "      <th>Ричардсон для h/4</th>\n",
       "      <td>4.054660e-01</td>\n",
       "      <td>4.054660e-01</td>\n",
       "      <td>4.054660e-01</td>\n",
       "      <td>-</td>\n",
       "      <td>-</td>\n",
       "      <td>-</td>\n",
       "    </tr>\n",
       "  </tbody>\n",
       "</table>\n",
       "</div>"
      ],
      "text/plain": [
       "                   Метод средних прямоугольников  Метод трапеций  \\\n",
       "h0                                  4.054827e-01    4.054827e-01   \n",
       "h0 / 2                              4.054660e-01    4.054660e-01   \n",
       "h0 / 4                              4.054660e-01    4.054660e-01   \n",
       "Рунге для h/2                       5.555187e-06    5.555674e-06   \n",
       "Рунге для h/4                      -4.047331e-11    8.105274e-11   \n",
       "Ричардсон для h/2                   4.054883e-01    4.054883e-01   \n",
       "Ричардсон для h/4                   4.054660e-01    4.054660e-01   \n",
       "\n",
       "                   Метод Симпсона         R_n1         R_n2         R_n3  \n",
       "h0                   4.054827e-01 -1.76052e-05 -1.76072e-05 -1.76059e-05  \n",
       "h0 / 2               4.054660e-01 -9.39649e-07 -9.40136e-07 -9.39812e-07  \n",
       "h0 / 4               4.054660e-01 -9.39771e-07 -9.39892e-07 -9.39811e-07  \n",
       "Рунге для h/2        1.111070e-06            -            -            -  \n",
       "Рунге для h/4        7.242355e-15            -            -            -  \n",
       "Ричардсон для h/2    4.054838e-01            -            -            -  \n",
       "Ричардсон для h/4    4.054660e-01            -            -            -  "
      ]
     },
     "metadata": {},
     "output_type": "display_data"
    },
    {
     "name": "stdout",
     "output_type": "stream",
     "text": [
      "\n",
      "Функция 2x + 1/x; границы [1, 2], шаг = 0.0001\n",
      "\n",
      "Значение вычисленное аналитически =  3.6931471805599454\n"
     ]
    },
    {
     "data": {
      "text/html": [
       "<div>\n",
       "<style scoped>\n",
       "    .dataframe tbody tr th:only-of-type {\n",
       "        vertical-align: middle;\n",
       "    }\n",
       "\n",
       "    .dataframe tbody tr th {\n",
       "        vertical-align: top;\n",
       "    }\n",
       "\n",
       "    .dataframe thead th {\n",
       "        text-align: right;\n",
       "    }\n",
       "</style>\n",
       "<table border=\"1\" class=\"dataframe\">\n",
       "  <thead>\n",
       "    <tr style=\"text-align: right;\">\n",
       "      <th></th>\n",
       "      <th>Метод средних прямоугольников</th>\n",
       "      <th>Метод трапеций</th>\n",
       "      <th>Метод Симпсона</th>\n",
       "      <th>R_n1</th>\n",
       "      <th>R_n2</th>\n",
       "      <th>R_n3</th>\n",
       "    </tr>\n",
       "  </thead>\n",
       "  <tbody>\n",
       "    <tr>\n",
       "      <th>h0</th>\n",
       "      <td>3.693597</td>\n",
       "      <td>3.693597</td>\n",
       "      <td>3.693597</td>\n",
       "      <td>-0.000450008</td>\n",
       "      <td>-0.000450009</td>\n",
       "      <td>-0.000450009</td>\n",
       "    </tr>\n",
       "    <tr>\n",
       "      <th>h0 / 2</th>\n",
       "      <td>3.693147</td>\n",
       "      <td>3.693147</td>\n",
       "      <td>3.693147</td>\n",
       "      <td>7.64158e-11</td>\n",
       "      <td>-1.57959e-10</td>\n",
       "      <td>-1.71996e-12</td>\n",
       "    </tr>\n",
       "    <tr>\n",
       "      <th>h0 / 4</th>\n",
       "      <td>3.693260</td>\n",
       "      <td>3.693260</td>\n",
       "      <td>3.693260</td>\n",
       "      <td>-0.000112501</td>\n",
       "      <td>-0.000112501</td>\n",
       "      <td>-0.000112501</td>\n",
       "    </tr>\n",
       "    <tr>\n",
       "      <th>Рунге для h/2</th>\n",
       "      <td>0.000150</td>\n",
       "      <td>0.000150</td>\n",
       "      <td>0.000030</td>\n",
       "      <td>-</td>\n",
       "      <td>-</td>\n",
       "      <td>-</td>\n",
       "    </tr>\n",
       "    <tr>\n",
       "      <th>Рунге для h/4</th>\n",
       "      <td>-0.000038</td>\n",
       "      <td>-0.000038</td>\n",
       "      <td>-0.000008</td>\n",
       "      <td>-</td>\n",
       "      <td>-</td>\n",
       "      <td>-</td>\n",
       "    </tr>\n",
       "    <tr>\n",
       "      <th>Ричардсон для h/2</th>\n",
       "      <td>3.693747</td>\n",
       "      <td>3.693747</td>\n",
       "      <td>3.693627</td>\n",
       "      <td>-</td>\n",
       "      <td>-</td>\n",
       "      <td>-</td>\n",
       "    </tr>\n",
       "    <tr>\n",
       "      <th>Ричардсон для h/4</th>\n",
       "      <td>3.693110</td>\n",
       "      <td>3.693110</td>\n",
       "      <td>3.693140</td>\n",
       "      <td>-</td>\n",
       "      <td>-</td>\n",
       "      <td>-</td>\n",
       "    </tr>\n",
       "  </tbody>\n",
       "</table>\n",
       "</div>"
      ],
      "text/plain": [
       "                   Метод средних прямоугольников  Метод трапеций  \\\n",
       "h0                                      3.693597        3.693597   \n",
       "h0 / 2                                  3.693147        3.693147   \n",
       "h0 / 4                                  3.693260        3.693260   \n",
       "Рунге для h/2                           0.000150        0.000150   \n",
       "Рунге для h/4                          -0.000038       -0.000038   \n",
       "Ричардсон для h/2                       3.693747        3.693747   \n",
       "Ричардсон для h/4                       3.693110        3.693110   \n",
       "\n",
       "                   Метод Симпсона         R_n1         R_n2         R_n3  \n",
       "h0                       3.693597 -0.000450008 -0.000450009 -0.000450009  \n",
       "h0 / 2                   3.693147  7.64158e-11 -1.57959e-10 -1.71996e-12  \n",
       "h0 / 4                   3.693260 -0.000112501 -0.000112501 -0.000112501  \n",
       "Рунге для h/2            0.000030            -            -            -  \n",
       "Рунге для h/4           -0.000008            -            -            -  \n",
       "Ричардсон для h/2        3.693627            -            -            -  \n",
       "Ричардсон для h/4        3.693140            -            -            -  "
      ]
     },
     "metadata": {},
     "output_type": "display_data"
    },
    {
     "name": "stdout",
     "output_type": "stream",
     "text": [
      "\n",
      "Функция 4^x; границы [0, 1], шаг = 0.0001\n",
      "\n",
      "Значение вычисленное аналитически =  2.1640425613334453\n"
     ]
    },
    {
     "data": {
      "text/html": [
       "<div>\n",
       "<style scoped>\n",
       "    .dataframe tbody tr th:only-of-type {\n",
       "        vertical-align: middle;\n",
       "    }\n",
       "\n",
       "    .dataframe tbody tr th {\n",
       "        vertical-align: top;\n",
       "    }\n",
       "\n",
       "    .dataframe thead th {\n",
       "        text-align: right;\n",
       "    }\n",
       "</style>\n",
       "<table border=\"1\" class=\"dataframe\">\n",
       "  <thead>\n",
       "    <tr style=\"text-align: right;\">\n",
       "      <th></th>\n",
       "      <th>Метод средних прямоугольников</th>\n",
       "      <th>Метод трапеций</th>\n",
       "      <th>Метод Симпсона</th>\n",
       "      <th>R_n1</th>\n",
       "      <th>R_n2</th>\n",
       "      <th>R_n3</th>\n",
       "    </tr>\n",
       "  </thead>\n",
       "  <tbody>\n",
       "    <tr>\n",
       "      <th>h0</th>\n",
       "      <td>2.164443</td>\n",
       "      <td>2.164443</td>\n",
       "      <td>2.164443</td>\n",
       "      <td>-0.000400026</td>\n",
       "      <td>-0.000400031</td>\n",
       "      <td>-0.000400028</td>\n",
       "    </tr>\n",
       "    <tr>\n",
       "      <th>h0 / 2</th>\n",
       "      <td>2.164243</td>\n",
       "      <td>2.164243</td>\n",
       "      <td>2.164243</td>\n",
       "      <td>-0.000200006</td>\n",
       "      <td>-0.000200008</td>\n",
       "      <td>-0.000200007</td>\n",
       "    </tr>\n",
       "    <tr>\n",
       "      <th>h0 / 4</th>\n",
       "      <td>2.164043</td>\n",
       "      <td>2.164043</td>\n",
       "      <td>2.164043</td>\n",
       "      <td>1.07246e-10</td>\n",
       "      <td>-2.17673e-10</td>\n",
       "      <td>-1.05649e-12</td>\n",
       "    </tr>\n",
       "    <tr>\n",
       "      <th>Рунге для h/2</th>\n",
       "      <td>0.000067</td>\n",
       "      <td>0.000067</td>\n",
       "      <td>0.000013</td>\n",
       "      <td>-</td>\n",
       "      <td>-</td>\n",
       "      <td>-</td>\n",
       "    </tr>\n",
       "    <tr>\n",
       "      <th>Рунге для h/4</th>\n",
       "      <td>0.000067</td>\n",
       "      <td>0.000067</td>\n",
       "      <td>0.000013</td>\n",
       "      <td>-</td>\n",
       "      <td>-</td>\n",
       "      <td>-</td>\n",
       "    </tr>\n",
       "    <tr>\n",
       "      <th>Ричардсон для h/2</th>\n",
       "      <td>2.164509</td>\n",
       "      <td>2.164509</td>\n",
       "      <td>2.164456</td>\n",
       "      <td>-</td>\n",
       "      <td>-</td>\n",
       "      <td>-</td>\n",
       "    </tr>\n",
       "    <tr>\n",
       "      <th>Ричардсон для h/4</th>\n",
       "      <td>2.164309</td>\n",
       "      <td>2.164309</td>\n",
       "      <td>2.164256</td>\n",
       "      <td>-</td>\n",
       "      <td>-</td>\n",
       "      <td>-</td>\n",
       "    </tr>\n",
       "  </tbody>\n",
       "</table>\n",
       "</div>"
      ],
      "text/plain": [
       "                   Метод средних прямоугольников  Метод трапеций  \\\n",
       "h0                                      2.164443        2.164443   \n",
       "h0 / 2                                  2.164243        2.164243   \n",
       "h0 / 4                                  2.164043        2.164043   \n",
       "Рунге для h/2                           0.000067        0.000067   \n",
       "Рунге для h/4                           0.000067        0.000067   \n",
       "Ричардсон для h/2                       2.164509        2.164509   \n",
       "Ричардсон для h/4                       2.164309        2.164309   \n",
       "\n",
       "                   Метод Симпсона         R_n1         R_n2         R_n3  \n",
       "h0                       2.164443 -0.000400026 -0.000400031 -0.000400028  \n",
       "h0 / 2                   2.164243 -0.000200006 -0.000200008 -0.000200007  \n",
       "h0 / 4                   2.164043  1.07246e-10 -2.17673e-10 -1.05649e-12  \n",
       "Рунге для h/2            0.000013            -            -            -  \n",
       "Рунге для h/4            0.000013            -            -            -  \n",
       "Ричардсон для h/2        2.164456            -            -            -  \n",
       "Ричардсон для h/4        2.164256            -            -            -  "
      ]
     },
     "metadata": {},
     "output_type": "display_data"
    }
   ],
   "source": [
    "f = lambda x: 1/(np.exp(x) - 1)\n",
    "a, b = np.log(2), 2*np.log(2)\n",
    "eps = 1e-4\n",
    "r1 = output_results(f, a, b, np.log(3/2), eps, f'Функция 1/(exp[x] - 1); границы [log(2), 2*log(2)], шаг = {eps}')\n",
    "display(r1)\n",
    "\n",
    "g = lambda x: 2*x + 1/x\n",
    "a, b = 1, 2\n",
    "r2 = output_results(g, a, b, np.log(2) + 3, eps, f'Функция 2x + 1/x; границы [1, 2], шаг = {eps}')\n",
    "display(r2)\n",
    "\n",
    "h = lambda x: 4**(x)\n",
    "a, b = 0, 1\n",
    "r3 = output_results(h, a, b, 3/np.log(4), eps, f'Функция 4^x; границы [0, 1], шаг = {eps}')\n",
    "display(r3)"
   ]
  },
  {
   "cell_type": "code",
   "execution_count": 84,
   "metadata": {},
   "outputs": [
    {
     "data": {
      "text/plain": [
       "3.141592653589793"
      ]
     },
     "execution_count": 84,
     "metadata": {},
     "output_type": "execute_result"
    }
   ],
   "source": [
    "np.pi"
   ]
  },
  {
   "cell_type": "markdown",
   "metadata": {},
   "source": [
    "# drafts"
   ]
  },
  {
   "cell_type": "markdown",
   "metadata": {},
   "source": [
    "### rectangle"
   ]
  },
  {
   "cell_type": "code",
   "execution_count": 6,
   "metadata": {},
   "outputs": [
    {
     "data": {
      "text/plain": [
       "-16.691667499910217"
      ]
     },
     "execution_count": 6,
     "metadata": {},
     "output_type": "execute_result"
    }
   ],
   "source": [
    "x_points = np.linspace(a, b, splits[1])\n",
    "y_points = f(x_points)\n",
    "mas_sums = (x_points[1] - x_points[0]) * y_points[:-1]\n",
    "sum_of_y = mas_sums.sum()\n",
    "sum_of_y"
   ]
  },
  {
   "cell_type": "markdown",
   "metadata": {},
   "source": [
    "### trapezoid"
   ]
  },
  {
   "cell_type": "code",
   "execution_count": 7,
   "metadata": {},
   "outputs": [
    {
     "data": {
      "text/plain": [
       "-16.666664999660235"
      ]
     },
     "execution_count": 7,
     "metadata": {},
     "output_type": "execute_result"
    }
   ],
   "source": [
    "x_points = np.linspace(a, b, splits[1])\n",
    "y_points = f(x_points)\n",
    "sum_of_y = 0\n",
    "    \n",
    "for i in range(1, len(x_points)):\n",
    "    sum_of_y += (y_points[i-1] + y_points[i])/2 * (x_points[1] - x_points[0])\n",
    "sum_of_y"
   ]
  },
  {
   "cell_type": "markdown",
   "metadata": {},
   "source": [
    "### parabola"
   ]
  },
  {
   "cell_type": "code",
   "execution_count": 8,
   "metadata": {},
   "outputs": [
    {
     "data": {
      "text/plain": [
       "-16.66667066664239"
      ]
     },
     "execution_count": 8,
     "metadata": {},
     "output_type": "execute_result"
    }
   ],
   "source": [
    "parabola(f, a, b, splits[3])"
   ]
  },
  {
   "cell_type": "code",
   "execution_count": 15,
   "metadata": {},
   "outputs": [
    {
     "ename": "KeyboardInterrupt",
     "evalue": "",
     "output_type": "error",
     "traceback": [
      "\u001b[1;31m---------------------------------------------------------------------------\u001b[0m",
      "\u001b[1;31mKeyboardInterrupt\u001b[0m                         Traceback (most recent call last)",
      "\u001b[1;32m<ipython-input-15-c7fffefecb70>\u001b[0m in \u001b[0;36m<module>\u001b[1;34m\u001b[0m\n\u001b[1;32m----> 1\u001b[1;33m \u001b[0mleft_rectangle\u001b[0m\u001b[1;33m(\u001b[0m\u001b[0mf\u001b[0m\u001b[1;33m,\u001b[0m \u001b[0ma\u001b[0m\u001b[1;33m,\u001b[0m \u001b[0mb\u001b[0m\u001b[1;33m,\u001b[0m \u001b[1;36m1e-4\u001b[0m\u001b[1;33m)\u001b[0m\u001b[1;33m\u001b[0m\u001b[0m\n\u001b[0m",
      "\u001b[1;32m<ipython-input-14-eeb6318d16ba>\u001b[0m in \u001b[0;36mleft_rectangle\u001b[1;34m(func, x1, x2, eps)\u001b[0m\n\u001b[0;32m      9\u001b[0m         \u001b[0mx\u001b[0m \u001b[1;33m=\u001b[0m \u001b[0mx1\u001b[0m\u001b[1;33m\u001b[0m\u001b[0m\n\u001b[0;32m     10\u001b[0m         \u001b[1;32mwhile\u001b[0m \u001b[0mx\u001b[0m \u001b[1;33m<\u001b[0m \u001b[0mx2\u001b[0m\u001b[1;33m:\u001b[0m\u001b[1;33m\u001b[0m\u001b[0m\n\u001b[1;32m---> 11\u001b[1;33m             \u001b[0mI\u001b[0m \u001b[1;33m+=\u001b[0m \u001b[0mh0\u001b[0m \u001b[1;33m*\u001b[0m \u001b[0mfunc\u001b[0m\u001b[1;33m(\u001b[0m\u001b[0mx\u001b[0m\u001b[1;33m)\u001b[0m\u001b[1;33m\u001b[0m\u001b[0m\n\u001b[0m\u001b[0;32m     12\u001b[0m             \u001b[0mx\u001b[0m \u001b[1;33m+=\u001b[0m \u001b[0mh0\u001b[0m\u001b[1;33m\u001b[0m\u001b[0m\n\u001b[0;32m     13\u001b[0m         \u001b[0mh0\u001b[0m \u001b[1;33m/=\u001b[0m \u001b[1;36m2\u001b[0m\u001b[1;33m\u001b[0m\u001b[0m\n",
      "\u001b[1;31mKeyboardInterrupt\u001b[0m: "
     ]
    }
   ],
   "source": [
    "left_rectangle(f, a, b, 1e-4)"
   ]
  },
  {
   "cell_type": "code",
   "execution_count": null,
   "metadata": {},
   "outputs": [],
   "source": []
  }
 ],
 "metadata": {
  "kernelspec": {
   "display_name": "Python 3",
   "language": "python",
   "name": "python3"
  },
  "language_info": {
   "codemirror_mode": {
    "name": "ipython",
    "version": 3
   },
   "file_extension": ".py",
   "mimetype": "text/x-python",
   "name": "python",
   "nbconvert_exporter": "python",
   "pygments_lexer": "ipython3",
   "version": "3.6.5"
  }
 },
 "nbformat": 4,
 "nbformat_minor": 4
}
