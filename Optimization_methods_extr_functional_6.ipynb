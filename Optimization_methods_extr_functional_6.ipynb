{
 "cells": [
  {
   "attachments": {},
   "cell_type": "markdown",
   "metadata": {},
   "source": [
    "<h4><center>\"Московский государственный технический университет имени Н.Э. Баумана (национальный исследовательский университет)\"</center></h4>\n",
    "<h4><center>(МГТУ им. Н.Э. Баумана)</center></h4>\n",
    "<br>\n",
    "<center>Факультет \"Фундаментальные науки\"</center>\n",
    "<br>\n",
    "<center>Кафедра \"Высшая математика\"</center>\n",
    "<br>\n",
    "<br>\n",
    "<h1><center>Методы оптимизации и вариационное исчисление</center></h1>\n",
    "<br>\n",
    "<br>\n",
    "<h3><center>Отчёт</center></h3>\n",
    "<center>по лабораторной работе №6</center>\n",
    "<br>\n",
    "<br>\n",
    "<left>Выполнил: <h3>Черемисин Г.С.</h3></left>\n",
    "<br>\n",
    "<br>\n",
    "<br>\n",
    "<br>\n",
    "<br>\n",
    "<center>Москва, 2020</center>\n",
    "<hr>"
   ]
  },
  {
   "cell_type": "markdown",
   "metadata": {},
   "source": [
    " "
   ]
  },
  {
   "cell_type": "markdown",
   "metadata": {},
   "source": [
    "  \n",
    "   \n",
    "    \n",
    "     \n",
    "      "
   ]
  },
  {
   "cell_type": "markdown",
   "metadata": {},
   "source": [
    " "
   ]
  },
  {
   "cell_type": "markdown",
   "metadata": {},
   "source": [
    " "
   ]
  },
  {
   "cell_type": "markdown",
   "metadata": {},
   "source": [
    " "
   ]
  },
  {
   "cell_type": "markdown",
   "metadata": {},
   "source": [
    " "
   ]
  },
  {
   "cell_type": "markdown",
   "metadata": {},
   "source": [
    " "
   ]
  },
  {
   "cell_type": "markdown",
   "metadata": {},
   "source": [
    " "
   ]
  },
  {
   "cell_type": "markdown",
   "metadata": {},
   "source": [
    " "
   ]
  },
  {
   "cell_type": "markdown",
   "metadata": {},
   "source": [
    " "
   ]
  },
  {
   "cell_type": "markdown",
   "metadata": {},
   "source": [
    " "
   ]
  },
  {
   "cell_type": "markdown",
   "metadata": {},
   "source": [
    " "
   ]
  },
  {
   "cell_type": "markdown",
   "metadata": {},
   "source": [
    " \n",
    " \n",
    " \n",
    "  \n",
    "  \n",
    "  \n",
    "  \n",
    "  \n",
    "  \n",
    "  "
   ]
  },
  {
   "cell_type": "markdown",
   "metadata": {},
   "source": [
    "## Постановка задачи"
   ]
  },
  {
   "attachments": {},
   "cell_type": "markdown",
   "metadata": {},
   "source": [
    "Найти численное решение вариационной задачи с подвижными границами.\n",
    "Решение представить в форме рисунка. \n",
    "$$\\normalsize \\begin{equation}\n",
    "    \\begin{cases}\n",
    "        J(y)=\\int_{a}^2{(x^2y'^2 - y'^2)}\\,dx,\\\\\n",
    "        y(a) = 2a + 1,\\\\\n",
    "        y(2)=5.\n",
    "    \\end{cases}\n",
    "\\end{equation}$$"
   ]
  },
  {
   "cell_type": "code",
   "execution_count": 32,
   "metadata": {},
   "outputs": [],
   "source": [
    "import sympy as sp\n",
    "import matplotlib.pyplot as plt\n",
    "import numpy as np\n",
    "import warnings\n",
    "warnings.filterwarnings('ignore')"
   ]
  },
  {
   "cell_type": "markdown",
   "metadata": {},
   "source": [
    "## Поле экстремалей\n",
    "\n",
    "Определим понятие поля экстремалей. Семейство кривых $y=y(x,C)$ \n",
    "образует *собственное поле* в заданной области $D$ плоскости $Oxy$, если через каждую точку $(x,y)$ этой области проходит одна и только одна кривая семейства $y=y(x,C)$.\n",
    "\n",
    "*Наклоном поля* в точке $(x,y)$ называется угловой коэффициент $p(x,y)$ касательной к кривой семейства $y=y(x,C)$, прохдящей через точку $(x,y)$.\n",
    "\n",
    "Семейство кривых $y=y(x,C)$ образует *центральное поле* в области $D$ плоскости $Oxy$, если через каждую точку $(x,y)$, кроме некоторой точки $(x',y')\\in D$, называемой *центром пучка кривых*,  проходит одна и только одна кривая семейства $y=y(x,C)$.\n",
    "\n",
    "***Полем экстремалей*** называется такое собственное или центральное поле, которое образовано семейством экстремалей некоторой вариационной задачи, т.е. семейством интегральных кривых краевой задачи уравнения Эйлера\n",
    "$$\\normalsize \\begin{equation}\n",
    "    \\begin{cases}\n",
    "        F_y-\\dfrac{d}{dx}F_{y'}=0,\\\\\n",
    "        y(x_0)=y_0,\\\\\n",
    "        y(x_1)=y_1.\n",
    "    \\end{cases}\n",
    "    \\end{equation}$$"
   ]
  },
  {
   "cell_type": "markdown",
   "metadata": {},
   "source": [
    "## Нахождение экстремали и построение графика"
   ]
  },
  {
   "cell_type": "code",
   "execution_count": 40,
   "metadata": {},
   "outputs": [],
   "source": [
    "x = sp.symbols('x')\n",
    "y = sp.Function('y')\n",
    "euler_eqantion = sp.Eq(sp.diff(sp.diff(x**2*(sp.diff(y(x), x))**2 + sp.diff(y(x), x), \n",
    "                                       sp.diff(y(x), x)), x) - sp.diff(x**2*(sp.diff(y(x), x))**2 + sp.diff(y(x), x), y(x)))"
   ]
  },
  {
   "cell_type": "code",
   "execution_count": 41,
   "metadata": {},
   "outputs": [
    {
     "data": {
      "text/plain": [
       "'Уравнение Эйлера:'"
      ]
     },
     "metadata": {},
     "output_type": "display_data"
    },
    {
     "data": {
      "text/latex": [
       "$\\displaystyle 2 x^{2} \\frac{d^{2}}{d x^{2}} y{\\left(x \\right)} + 4 x \\frac{d}{d x} y{\\left(x \\right)} = 0$"
      ],
      "text/plain": [
       "Eq(2*x**2*Derivative(y(x), (x, 2)) + 4*x*Derivative(y(x), x), 0)"
      ]
     },
     "metadata": {},
     "output_type": "display_data"
    }
   ],
   "source": [
    "display('Уравнение Эйлера:', euler_eqantion)"
   ]
  },
  {
   "cell_type": "code",
   "execution_count": 42,
   "metadata": {},
   "outputs": [
    {
     "data": {
      "text/plain": [
       "'Полученое решение дифференциального уравнения:'"
      ]
     },
     "metadata": {},
     "output_type": "display_data"
    },
    {
     "data": {
      "text/latex": [
       "$\\displaystyle y{\\left(x \\right)} = C_{1} + \\frac{C_{2}}{x}$"
      ],
      "text/plain": [
       "Eq(y(x), C1 + C2/x)"
      ]
     },
     "metadata": {},
     "output_type": "display_data"
    }
   ],
   "source": [
    "extr_field = sp.dsolve(euler_eqantion)\n",
    "display('Полученое решение дифференциального уравнения:', extr_field)"
   ]
  },
  {
   "cell_type": "markdown",
   "metadata": {},
   "source": [
    "<font size = 3.5>Так как левая граница - подвижная, то для нее возникает условие трансверсальности, которое примет следующий вид:<br><br>\n",
    "$$\\normalsize f(x,y,y') + (\\varphi'-y')f'_{y'} = 0,\\; при \\; x = a $$\n",
    "<br>Для данного интегранта $\\normalsize f(x, y, y')$ и граничного условия $\\normalsize \\varphi(x) = 2x + 1$, после соответствующих преобразований получим уравнение:<br>\n",
    "$$\\normalsize 4x^2y'-x^2y'^2+2=0,\\; где\\; x = a$$<br>\n",
    "Вместе с этим условием два других краевых условия создают систему из трех уравнений:<br><br>\n",
    "$$\\normalsize \\left\\{\n",
    "    \\begin{array}\\\\\n",
    "        -4c_1-\\frac{c_1^2}{a^2}+2=0 \\\\\n",
    "        \\frac{c_1}{2} +c_2 = 5  \\\\\n",
    "        \\frac{c1}{a} + c_2 = 2a+1 \\end{array}\n",
    "\\right.\n",
    "$$\n",
    "<br>В качестве решения получили следующие коэффициенты: $\\normalsize c_1 = -\\frac{7}{2};\\; c_2 = \\frac{27}{4};\\; a = \\frac{7}{8}$;<br>\n",
    "Им соотвествует экстремаль $\\normalsize y(x) = -\\frac{7}{2x}+\\frac{27}{4}$;<br>\n",
    "<br>Отобразим поле и найденную экстремаль на графике"
   ]
  },
  {
   "cell_type": "code",
   "execution_count": 59,
   "metadata": {},
   "outputs": [],
   "source": [
    "c10 = np.linspace(-8, 3, 10)\n",
    "c1 = -7/2\n",
    "c2 = 27/4\n",
    "x_range = np.linspace(0.8, 2.5, 40)"
   ]
  },
  {
   "cell_type": "code",
   "execution_count": 63,
   "metadata": {},
   "outputs": [
    {
     "data": {
      "image/png": "[encoded data removed]",
      "text/plain": [
       "<Figure size 576x432 with 1 Axes>"
      ]
     },
     "metadata": {
      "needs_background": "light"
     },
     "output_type": "display_data"
    }
   ],
   "source": [
    "plt.figure(figsize = (8, 6))\n",
    "for c in c10[:-1]:\n",
    "    plt.plot(x_range, c/x_range+c2, color = 'green')\n",
    "\n",
    "plt.plot(x_range, c10[-1]/x_range+c2, color = 'green', label='Линии собственного поля')\n",
    "plt.plot(x_range, c1/x_range+c2, color = 'red', linewidth = 3, label = 'Найденная экстремаль')\n",
    "plt.plot(x_range, 2*x_range+1, color='blue', linewidth = 3, label = 'Функция граничного условия', linestyle = '--')    \n",
    "\n",
    "plt.legend()\n",
    "plt.grid(True)\n",
    "plt.show()"
   ]
  },
  {
   "cell_type": "markdown",
   "metadata": {},
   "source": [
    "<font size = 3><i>Вывод: была найдена и отображена на графике экстремаль исходного функционала, удовлетворяющая граничным условиям "
   ]
  }
 ],
 "metadata": {
  "kernelspec": {
   "display_name": "Python 3",
   "language": "python",
   "name": "python3"
  },
  "language_info": {
   "codemirror_mode": {
    "name": "ipython",
    "version": 3
   },
   "file_extension": ".py",
   "mimetype": "text/x-python",
   "name": "python",
   "nbconvert_exporter": "python",
   "pygments_lexer": "ipython3",
   "version": "3.6.5"
  }
 },
 "nbformat": 4,
 "nbformat_minor": 4
}
